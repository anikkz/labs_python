{
 "cells": [
  {
   "cell_type": "markdown",
   "metadata": {},
   "source": [
    "Максимальное число идущих подряд равных элементов\n",
    "Дана последовательность натуральных чисел, завершающаяся числом 0. Определите, какое наибольшее число подряд идущих элементов этой последовательности равны друг другу."
   ]
  },
  {
   "cell_type": "code",
   "execution_count": null,
   "metadata": {},
   "outputs": [],
   "source": [
    "a=int(input())\n",
    "p=0\n",
    "pred=-1\n",
    "max_p=0\n",
    "while a!=0:\n",
    "    if pred==a:\n",
    "        p+=1\n",
    "    else:\n",
    "        pred=a\n",
    "        max_p=max(max_p,p)\n",
    "        p=1\n",
    "    a=int(input())\n",
    "max_p=max(max_p,p)\n",
    "print(max_p)"
   ]
  }
 ],
 "metadata": {
  "kernelspec": {
   "display_name": "Python 3",
   "language": "python",
   "name": "python3"
  },
  "language_info": {
   "codemirror_mode": {
    "name": "ipython",
    "version": 3
   },
   "file_extension": ".py",
   "mimetype": "text/x-python",
   "name": "python",
   "nbconvert_exporter": "python",
   "pygments_lexer": "ipython3",
   "version": "3.8.3"
  }
 },
 "nbformat": 4,
 "nbformat_minor": 4
}
