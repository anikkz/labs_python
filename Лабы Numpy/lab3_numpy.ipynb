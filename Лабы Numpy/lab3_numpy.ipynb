{
 "cells": [
  {
   "cell_type": "markdown",
   "metadata": {},
   "source": [
    "---\n",
    "                                            Московский Авиационный Институт  \n",
    "                                      (Национальный Исследовательский Университет)  \n",
    "        \n",
    "                \n",
    "                 \n",
    "    Институт №8 «Информационные технологии и прикладная математика»  \n",
    "    Кафедра 806 «Вычислительная математика и программирование» \n",
    "    Дисциплина: «Разработка ПО для высокопроизводительных систем»        \n",
    "                \n",
    "\n",
    "\n",
    "\n",
    "                                            Лабораторная работа по Numpy №3  \n",
    "    \n",
    "                                            \n",
    "                                            \n",
    "                                            \n",
    "                                                                                Группа: М8О-103М-20  \n",
    "                                                                                Студент: Никитина Анна Евгеньевна  \n",
    "                                                                                Преподаватель: Поповкин Александр Викторович  \n",
    "                                                                                \n",
    "                                                                                \n",
    "                                                                                \n",
    "                                                     Москва, 2020  \n",
    "                                                         \n",
    "--- "
   ]
  },
  {
   "cell_type": "code",
   "execution_count": 3,
   "metadata": {},
   "outputs": [],
   "source": [
    "import numpy as np"
   ]
  },
  {
   "cell_type": "markdown",
   "metadata": {},
   "source": [
    "1. Дан вектор [1, 2, 3, 4, 5], построить новый вектор с тремя нулями между каждым значением"
   ]
  },
  {
   "cell_type": "code",
   "execution_count": 7,
   "metadata": {},
   "outputs": [
    {
     "name": "stdout",
     "output_type": "stream",
     "text": [
      "[1. 0. 0. 0. 2. 0. 0. 0. 3. 0. 0. 0. 4. 0. 0. 0. 5.]\n"
     ]
    }
   ],
   "source": [
    "a=np.array([1, 2, 3, 4, 5])\n",
    "nz = 3\n",
    "a0 = np.zeros(len(a) + (len(a)-1)*(nz))\n",
    "a0[::nz+1] = a\n",
    "print(a0)"
   ]
  },
  {
   "cell_type": "markdown",
   "metadata": {},
   "source": [
    "2. Поменять 2 строки в матрице"
   ]
  },
  {
   "cell_type": "code",
   "execution_count": 16,
   "metadata": {},
   "outputs": [
    {
     "name": "stdout",
     "output_type": "stream",
     "text": [
      "[[4 6 8]\n",
      " [1 2 3]\n",
      " [1 3 5]]\n"
     ]
    }
   ],
   "source": [
    "a=np.array(([1, 2, 3],[4, 6, 8],[1, 3, 5]))\n",
    "a[[0,1]]=a[[1,0]]\n",
    "print(a)"
   ]
  },
  {
   "cell_type": "markdown",
   "metadata": {},
   "source": [
    "3. Рассмотрим набор из 10 троек, описывающих 10 треугольников (с общими вершинами), найти множество уникальных отрезков, составляющих все треугольники"
   ]
  },
  {
   "cell_type": "code",
   "execution_count": 18,
   "metadata": {},
   "outputs": [
    {
     "name": "stdout",
     "output_type": "stream",
     "text": [
      "[( 3, 62) ( 3, 77) ( 6, 42) ( 6, 79) (17, 31) (17, 59) (18, 54) (18, 69)\n",
      " (20, 49) (20, 71) (27, 32) (27, 55) (31, 59) (32, 55) (33, 36) (33, 46)\n",
      " (36, 46) (42, 79) (45, 47) (45, 96) (47, 96) (49, 71) (54, 69) (58, 63)\n",
      " (58, 92) (60, 77) (60, 82) (62, 77) (63, 92) (77, 82)]\n",
      "[[59 31 17]\n",
      " [96 45 47]\n",
      " [69 54 18]\n",
      " [92 58 63]\n",
      " [ 6 42 79]\n",
      " [ 3 77 62]\n",
      " [32 55 27]\n",
      " [20 49 71]\n",
      " [82 77 60]\n",
      " [36 46 33]]\n"
     ]
    }
   ],
   "source": [
    "faces = np.random.randint(0,100,(10,3))\n",
    "F = np.roll(faces.repeat(2,axis=1),-1,axis=1)\n",
    "F = F.reshape(len(F)*3,2)\n",
    "F = np.sort(F,axis=1)\n",
    "G = F.view( dtype=[('p0',F.dtype),('p1',F.dtype)] )\n",
    "G = np.unique(G)\n",
    "print(G)\n",
    "print(faces)"
   ]
  },
  {
   "cell_type": "markdown",
   "metadata": {},
   "source": [
    "4. Дан массив C; создать массив A, что np.bincount(A) == C"
   ]
  },
  {
   "cell_type": "code",
   "execution_count": 20,
   "metadata": {},
   "outputs": [
    {
     "name": "stdout",
     "output_type": "stream",
     "text": [
      "[1 2 3 4 5 6]\n"
     ]
    }
   ],
   "source": [
    "C = np.bincount([1,2,3,4,5,6])\n",
    "A = np.repeat(np.arange(len(C)), C)\n",
    "print(A)"
   ]
  },
  {
   "cell_type": "markdown",
   "metadata": {},
   "source": [
    "5. Посчитать среднее, используя плавающее окно"
   ]
  },
  {
   "cell_type": "code",
   "execution_count": 28,
   "metadata": {},
   "outputs": [
    {
     "name": "stdout",
     "output_type": "stream",
     "text": [
      "[ 0.  1.  3.  6. 10.]\n",
      "[ 6. 10.]\n",
      "[ 3.  6. 10.]\n",
      "[1.         2.         3.33333333]\n"
     ]
    }
   ],
   "source": [
    "def moving_average(a, n=3):\n",
    "    ret = np.cumsum(a, dtype=float)\n",
    "    print(ret)\n",
    "    ret[n:] = ret[n:] - ret[:-n]\n",
    "    print(ret[n:])\n",
    "    print(ret[n - 1:])\n",
    "    return ret[n - 1:] / n\n",
    "\n",
    "print(moving_average(np.arange(5), 3))"
   ]
  },
  {
   "cell_type": "markdown",
   "metadata": {},
   "source": [
    "6. Дан вектор Z, построить матрицу, первая строка которой (Z[0],Z[1],Z[2]), каждая последующая сдвинута на 1 (последняя (Z[-3],Z[-2],Z[-1]))\n"
   ]
  },
  {
   "cell_type": "code",
   "execution_count": 32,
   "metadata": {},
   "outputs": [
    {
     "name": "stdout",
     "output_type": "stream",
     "text": [
      "[[0 1 2]\n",
      " [1 2 3]\n",
      " [2 3 4]\n",
      " [3 4 5]\n",
      " [4 5 6]\n",
      " [5 6 7]\n",
      " [6 7 8]\n",
      " [7 8 9]]\n"
     ]
    }
   ],
   "source": [
    "from numpy.lib import stride_tricks\n",
    "\n",
    "def rolling(a, window):\n",
    "    shape = (a.size - window + 1, window)\n",
    "    strides = (a.itemsize, a.itemsize)\n",
    "    return stride_tricks.as_strided(a, shape=shape, strides=strides)\n",
    "Z = rolling(np.arange(10), 3)\n",
    "print(Z)"
   ]
  },
  {
   "cell_type": "markdown",
   "metadata": {},
   "source": [
    "7. Инвертировать булево значение, или поменять знак у числового массива без создания нового"
   ]
  },
  {
   "cell_type": "code",
   "execution_count": 15,
   "metadata": {},
   "outputs": [
    {
     "name": "stdout",
     "output_type": "stream",
     "text": [
      "[0 1 0 1 1]\n",
      "[1 0 1 0 0]\n",
      "[-0.25856161 -0.47642577  0.94000641  0.64246551 -0.53202756]\n",
      "[ 0.25856161  0.47642577 -0.94000641 -0.64246551  0.53202756]\n"
     ]
    }
   ],
   "source": [
    "a = np.random.randint(0,2,5)\n",
    "print(a)\n",
    "print(np.logical_not(a, out=a))\n",
    "\n",
    "b = np.random.uniform(-1.0,1.0,5)\n",
    "print(b)\n",
    "print(np.negative(b, out=b))"
   ]
  },
  {
   "cell_type": "markdown",
   "metadata": {},
   "source": [
    "8. Посчитать ранг матрицы"
   ]
  },
  {
   "cell_type": "code",
   "execution_count": 5,
   "metadata": {},
   "outputs": [
    {
     "name": "stdout",
     "output_type": "stream",
     "text": [
      "10\n"
     ]
    }
   ],
   "source": [
    "a = np.random.uniform(0,1,(10,10))\n",
    "rank = np.linalg.matrix_rank(a)\n",
    "print(rank)"
   ]
  },
  {
   "cell_type": "markdown",
   "metadata": {},
   "source": [
    "9. Найти наиболее частое значение в массиве"
   ]
  },
  {
   "cell_type": "code",
   "execution_count": 7,
   "metadata": {},
   "outputs": [
    {
     "name": "stdout",
     "output_type": "stream",
     "text": [
      "6\n"
     ]
    }
   ],
   "source": [
    "a = np.random.randint(0,7,15)\n",
    "print(np.bincount(a).argmax())"
   ]
  },
  {
   "cell_type": "markdown",
   "metadata": {},
   "source": [
    "10. Извлечь все смежные 3x3 блоки из 10x10 матрицы"
   ]
  },
  {
   "cell_type": "code",
   "execution_count": 21,
   "metadata": {},
   "outputs": [
    {
     "name": "stdout",
     "output_type": "stream",
     "text": [
      "[[3 1 2 0 3 1 1 2 1 0]\n",
      " [4 3 4 3 3 4 0 2 2 2]\n",
      " [2 2 1 1 3 3 2 2 0 3]\n",
      " [1 4 4 3 2 1 2 1 1 3]\n",
      " [3 4 0 1 2 0 1 1 0 0]\n",
      " [4 2 4 2 3 0 4 1 2 3]\n",
      " [0 1 2 3 2 3 2 4 0 1]\n",
      " [3 0 1 3 2 3 1 4 3 1]\n",
      " [0 3 4 4 1 1 2 4 3 4]\n",
      " [3 2 2 4 4 1 2 3 0 4]]\n",
      "[[[[3 1 2]\n",
      "   [4 3 4]\n",
      "   [2 2 1]]\n",
      "\n",
      "  [[1 2 0]\n",
      "   [3 4 3]\n",
      "   [2 1 1]]\n",
      "\n",
      "  [[2 0 3]\n",
      "   [4 3 3]\n",
      "   [1 1 3]]\n",
      "\n",
      "  [[0 3 1]\n",
      "   [3 3 4]\n",
      "   [1 3 3]]\n",
      "\n",
      "  [[3 1 1]\n",
      "   [3 4 0]\n",
      "   [3 3 2]]\n",
      "\n",
      "  [[1 1 2]\n",
      "   [4 0 2]\n",
      "   [3 2 2]]\n",
      "\n",
      "  [[1 2 1]\n",
      "   [0 2 2]\n",
      "   [2 2 0]]\n",
      "\n",
      "  [[2 1 0]\n",
      "   [2 2 2]\n",
      "   [2 0 3]]]\n",
      "\n",
      "\n",
      " [[[4 3 4]\n",
      "   [2 2 1]\n",
      "   [1 4 4]]\n",
      "\n",
      "  [[3 4 3]\n",
      "   [2 1 1]\n",
      "   [4 4 3]]\n",
      "\n",
      "  [[4 3 3]\n",
      "   [1 1 3]\n",
      "   [4 3 2]]\n",
      "\n",
      "  [[3 3 4]\n",
      "   [1 3 3]\n",
      "   [3 2 1]]\n",
      "\n",
      "  [[3 4 0]\n",
      "   [3 3 2]\n",
      "   [2 1 2]]\n",
      "\n",
      "  [[4 0 2]\n",
      "   [3 2 2]\n",
      "   [1 2 1]]\n",
      "\n",
      "  [[0 2 2]\n",
      "   [2 2 0]\n",
      "   [2 1 1]]\n",
      "\n",
      "  [[2 2 2]\n",
      "   [2 0 3]\n",
      "   [1 1 3]]]\n",
      "\n",
      "\n",
      " [[[2 2 1]\n",
      "   [1 4 4]\n",
      "   [3 4 0]]\n",
      "\n",
      "  [[2 1 1]\n",
      "   [4 4 3]\n",
      "   [4 0 1]]\n",
      "\n",
      "  [[1 1 3]\n",
      "   [4 3 2]\n",
      "   [0 1 2]]\n",
      "\n",
      "  [[1 3 3]\n",
      "   [3 2 1]\n",
      "   [1 2 0]]\n",
      "\n",
      "  [[3 3 2]\n",
      "   [2 1 2]\n",
      "   [2 0 1]]\n",
      "\n",
      "  [[3 2 2]\n",
      "   [1 2 1]\n",
      "   [0 1 1]]\n",
      "\n",
      "  [[2 2 0]\n",
      "   [2 1 1]\n",
      "   [1 1 0]]\n",
      "\n",
      "  [[2 0 3]\n",
      "   [1 1 3]\n",
      "   [1 0 0]]]\n",
      "\n",
      "\n",
      " [[[1 4 4]\n",
      "   [3 4 0]\n",
      "   [4 2 4]]\n",
      "\n",
      "  [[4 4 3]\n",
      "   [4 0 1]\n",
      "   [2 4 2]]\n",
      "\n",
      "  [[4 3 2]\n",
      "   [0 1 2]\n",
      "   [4 2 3]]\n",
      "\n",
      "  [[3 2 1]\n",
      "   [1 2 0]\n",
      "   [2 3 0]]\n",
      "\n",
      "  [[2 1 2]\n",
      "   [2 0 1]\n",
      "   [3 0 4]]\n",
      "\n",
      "  [[1 2 1]\n",
      "   [0 1 1]\n",
      "   [0 4 1]]\n",
      "\n",
      "  [[2 1 1]\n",
      "   [1 1 0]\n",
      "   [4 1 2]]\n",
      "\n",
      "  [[1 1 3]\n",
      "   [1 0 0]\n",
      "   [1 2 3]]]\n",
      "\n",
      "\n",
      " [[[3 4 0]\n",
      "   [4 2 4]\n",
      "   [0 1 2]]\n",
      "\n",
      "  [[4 0 1]\n",
      "   [2 4 2]\n",
      "   [1 2 3]]\n",
      "\n",
      "  [[0 1 2]\n",
      "   [4 2 3]\n",
      "   [2 3 2]]\n",
      "\n",
      "  [[1 2 0]\n",
      "   [2 3 0]\n",
      "   [3 2 3]]\n",
      "\n",
      "  [[2 0 1]\n",
      "   [3 0 4]\n",
      "   [2 3 2]]\n",
      "\n",
      "  [[0 1 1]\n",
      "   [0 4 1]\n",
      "   [3 2 4]]\n",
      "\n",
      "  [[1 1 0]\n",
      "   [4 1 2]\n",
      "   [2 4 0]]\n",
      "\n",
      "  [[1 0 0]\n",
      "   [1 2 3]\n",
      "   [4 0 1]]]\n",
      "\n",
      "\n",
      " [[[4 2 4]\n",
      "   [0 1 2]\n",
      "   [3 0 1]]\n",
      "\n",
      "  [[2 4 2]\n",
      "   [1 2 3]\n",
      "   [0 1 3]]\n",
      "\n",
      "  [[4 2 3]\n",
      "   [2 3 2]\n",
      "   [1 3 2]]\n",
      "\n",
      "  [[2 3 0]\n",
      "   [3 2 3]\n",
      "   [3 2 3]]\n",
      "\n",
      "  [[3 0 4]\n",
      "   [2 3 2]\n",
      "   [2 3 1]]\n",
      "\n",
      "  [[0 4 1]\n",
      "   [3 2 4]\n",
      "   [3 1 4]]\n",
      "\n",
      "  [[4 1 2]\n",
      "   [2 4 0]\n",
      "   [1 4 3]]\n",
      "\n",
      "  [[1 2 3]\n",
      "   [4 0 1]\n",
      "   [4 3 1]]]\n",
      "\n",
      "\n",
      " [[[0 1 2]\n",
      "   [3 0 1]\n",
      "   [0 3 4]]\n",
      "\n",
      "  [[1 2 3]\n",
      "   [0 1 3]\n",
      "   [3 4 4]]\n",
      "\n",
      "  [[2 3 2]\n",
      "   [1 3 2]\n",
      "   [4 4 1]]\n",
      "\n",
      "  [[3 2 3]\n",
      "   [3 2 3]\n",
      "   [4 1 1]]\n",
      "\n",
      "  [[2 3 2]\n",
      "   [2 3 1]\n",
      "   [1 1 2]]\n",
      "\n",
      "  [[3 2 4]\n",
      "   [3 1 4]\n",
      "   [1 2 4]]\n",
      "\n",
      "  [[2 4 0]\n",
      "   [1 4 3]\n",
      "   [2 4 3]]\n",
      "\n",
      "  [[4 0 1]\n",
      "   [4 3 1]\n",
      "   [4 3 4]]]\n",
      "\n",
      "\n",
      " [[[3 0 1]\n",
      "   [0 3 4]\n",
      "   [3 2 2]]\n",
      "\n",
      "  [[0 1 3]\n",
      "   [3 4 4]\n",
      "   [2 2 4]]\n",
      "\n",
      "  [[1 3 2]\n",
      "   [4 4 1]\n",
      "   [2 4 4]]\n",
      "\n",
      "  [[3 2 3]\n",
      "   [4 1 1]\n",
      "   [4 4 1]]\n",
      "\n",
      "  [[2 3 1]\n",
      "   [1 1 2]\n",
      "   [4 1 2]]\n",
      "\n",
      "  [[3 1 4]\n",
      "   [1 2 4]\n",
      "   [1 2 3]]\n",
      "\n",
      "  [[1 4 3]\n",
      "   [2 4 3]\n",
      "   [2 3 0]]\n",
      "\n",
      "  [[4 3 1]\n",
      "   [4 3 4]\n",
      "   [3 0 4]]]]\n"
     ]
    }
   ],
   "source": [
    "a = np.random.randint(0,5,(10,10))\n",
    "print(a)\n",
    "n = 3\n",
    "i = 1 + (a.shape[0] - n)\n",
    "j = 1 + (a.shape[1] - n)\n",
    "C = np.lib.stride_tricks.as_strided(a, shape=(i, j, n, n), strides=a.strides + a.strides)\n",
    "print(C)"
   ]
  },
  {
   "cell_type": "markdown",
   "metadata": {},
   "source": [
    "11. Рассмотрим множество матриц (n,n) и множество из p векторов (n,1). Посчитать сумму p произведений матриц (результат имеет размерность (n,1))"
   ]
  },
  {
   "cell_type": "code",
   "execution_count": 37,
   "metadata": {},
   "outputs": [
    {
     "name": "stdout",
     "output_type": "stream",
     "text": [
      "[[200.]\n",
      " [200.]\n",
      " [200.]\n",
      " [200.]\n",
      " [200.]\n",
      " [200.]\n",
      " [200.]\n",
      " [200.]\n",
      " [200.]\n",
      " [200.]\n",
      " [200.]\n",
      " [200.]\n",
      " [200.]\n",
      " [200.]\n",
      " [200.]\n",
      " [200.]\n",
      " [200.]\n",
      " [200.]\n",
      " [200.]\n",
      " [200.]]\n"
     ]
    }
   ],
   "source": [
    "p, n = 10, 20\n",
    "M = np.ones((p,n,n))\n",
    "V = np.ones((p,n,1))\n",
    "S = np.tensordot(M, V, axes=[[0, 2], [0, 1]])\n",
    "print(S)"
   ]
  },
  {
   "cell_type": "markdown",
   "metadata": {},
   "source": [
    "12. Дан массив 16x16, посчитать сумму по блокам 4x4"
   ]
  },
  {
   "cell_type": "code",
   "execution_count": 17,
   "metadata": {},
   "outputs": [
    {
     "name": "stdout",
     "output_type": "stream",
     "text": [
      "[[16. 16. 16. 16.]\n",
      " [16. 16. 16. 16.]\n",
      " [16. 16. 16. 16.]\n",
      " [16. 16. 16. 16.]]\n"
     ]
    }
   ],
   "source": [
    "Z = np.ones((16,16))\n",
    "k = 4\n",
    "S = np.add.reduceat(np.add.reduceat(Z, np.arange(0, Z.shape[0], k), axis=0),\n",
    "                                       np.arange(0, Z.shape[1], k), axis=1)\n",
    "print(S)"
   ]
  },
  {
   "cell_type": "markdown",
   "metadata": {},
   "source": [
    "13. Найти n наибольших значений в массиве"
   ]
  },
  {
   "cell_type": "code",
   "execution_count": 19,
   "metadata": {},
   "outputs": [
    {
     "name": "stdout",
     "output_type": "stream",
     "text": [
      "[97 96 99 98 95]\n"
     ]
    }
   ],
   "source": [
    "Z = np.arange(100)\n",
    "np.random.shuffle(Z)\n",
    "n = 5\n",
    "print (Z[np.argpartition(-Z,n)[:n]])"
   ]
  },
  {
   "cell_type": "markdown",
   "metadata": {},
   "source": [
    "14. Построить прямое произведение массивов (все комбинации с каждым элементом)"
   ]
  },
  {
   "cell_type": "code",
   "execution_count": 20,
   "metadata": {},
   "outputs": [
    {
     "name": "stdout",
     "output_type": "stream",
     "text": [
      "[[1 4 6]\n",
      " [1 4 7]\n",
      " [1 5 6]\n",
      " [1 5 7]\n",
      " [2 4 6]\n",
      " [2 4 7]\n",
      " [2 5 6]\n",
      " [2 5 7]\n",
      " [3 4 6]\n",
      " [3 4 7]\n",
      " [3 5 6]\n",
      " [3 5 7]]\n"
     ]
    }
   ],
   "source": [
    "def cartesian(arrays):\n",
    "    arrays = [np.asarray(a) for a in arrays]\n",
    "    shape = map(len, arrays)\n",
    "\n",
    "    ix = np.indices(shape, dtype=int)\n",
    "    ix = ix.reshape(len(arrays), -1).T\n",
    "\n",
    "    for n, arr in enumerate(arrays):\n",
    "        ix[:, n] = arrays[n][ix[:, n]]\n",
    "\n",
    "    return ix\n",
    "\n",
    "print(cartesian(([1, 2, 3], [4, 5], [6, 7])))"
   ]
  },
  {
   "cell_type": "markdown",
   "metadata": {},
   "source": [
    "15. Даны 2 массива A (8x3) и B (2x2). Найти строки в A, которые содержат элементы из каждой строки в B, независимо от порядка элементов в B\n"
   ]
  },
  {
   "cell_type": "code",
   "execution_count": 42,
   "metadata": {},
   "outputs": [
    {
     "name": "stdout",
     "output_type": "stream",
     "text": [
      "[[4 1 2]\n",
      " [1 2 1]\n",
      " [1 1 0]\n",
      " [4 4 4]\n",
      " [3 3 3]\n",
      " [4 0 3]\n",
      " [1 2 2]\n",
      " [3 1 0]]\n",
      "[[3 2]\n",
      " [3 1]]\n",
      "[0 1 2 4 5 6 7]\n"
     ]
    }
   ],
   "source": [
    "A = np.random.randint(0,5,(8,3))\n",
    "B = np.random.randint(0,5,(2,2))\n",
    "print(A)\n",
    "print(B)\n",
    "C = (A[..., np.newaxis, np.newaxis] == B)\n",
    "rows = (C.sum(axis=(1,2,3)) >= B.shape[1]).nonzero()[0]\n",
    "#print(C)\n",
    "print(rows)"
   ]
  },
  {
   "cell_type": "markdown",
   "metadata": {},
   "source": [
    "16. Дана 10x3 матрица, найти строки из неравных значений (например [2,2,3])\n"
   ]
  },
  {
   "cell_type": "code",
   "execution_count": 38,
   "metadata": {},
   "outputs": [
    {
     "name": "stdout",
     "output_type": "stream",
     "text": [
      "[[4 1 2]\n",
      " [2 0 3]\n",
      " [3 0 4]\n",
      " [0 3 2]\n",
      " [3 2 0]\n",
      " [3 3 0]\n",
      " [3 3 1]\n",
      " [4 4 2]\n",
      " [4 4 0]\n",
      " [3 4 1]]\n",
      "[[4 1 2]\n",
      " [2 0 3]\n",
      " [3 0 4]\n",
      " [0 3 2]\n",
      " [3 2 0]\n",
      " [3 3 0]\n",
      " [3 3 1]\n",
      " [4 4 2]\n",
      " [4 4 0]\n",
      " [3 4 1]]\n"
     ]
    }
   ],
   "source": [
    "Z = np.random.randint(0,5,(10,3))\n",
    "E = np.logical_and.reduce(Z[:,1:] == Z[:,:-1], axis=1)\n",
    "U = Z[~E]\n",
    "print(Z)\n",
    "print(U)"
   ]
  },
  {
   "cell_type": "markdown",
   "metadata": {},
   "source": [
    "17. Преобразовать вектор чисел в матрицу бинарных представлений"
   ]
  },
  {
   "cell_type": "code",
   "execution_count": 23,
   "metadata": {},
   "outputs": [
    {
     "name": "stdout",
     "output_type": "stream",
     "text": [
      "[[0 0 0 0 0 0 0 0]\n",
      " [0 0 0 0 0 0 0 1]\n",
      " [0 0 0 0 0 0 1 0]\n",
      " [0 0 0 0 0 0 1 1]\n",
      " [0 0 0 0 1 1 1 1]\n",
      " [0 0 0 1 0 0 0 0]\n",
      " [0 0 1 0 0 0 0 0]\n",
      " [0 1 0 0 0 0 0 0]\n",
      " [1 0 0 0 0 0 0 0]]\n"
     ]
    }
   ],
   "source": [
    "I = np.array([0, 1, 2, 3, 15, 16, 32, 64, 128], dtype=np.uint8)\n",
    "print(np.unpackbits(I[:, np.newaxis], axis=1))"
   ]
  },
  {
   "cell_type": "markdown",
   "metadata": {},
   "source": [
    "18. Дан двумерный массив. Найти все различные строки"
   ]
  },
  {
   "cell_type": "code",
   "execution_count": 24,
   "metadata": {},
   "outputs": [
    {
     "name": "stdout",
     "output_type": "stream",
     "text": [
      "[[0 0 0]\n",
      " [0 0 1]\n",
      " [0 1 0]\n",
      " [0 1 1]]\n"
     ]
    }
   ],
   "source": [
    "Z = np.random.randint(0, 2, (6,3))\n",
    "T = np.ascontiguousarray(Z).view(np.dtype((np.void, Z.dtype.itemsize * Z.shape[1])))\n",
    "_, idx = np.unique(T, return_index=True)\n",
    "uZ = Z[idx]\n",
    "print(uZ)"
   ]
  },
  {
   "cell_type": "markdown",
   "metadata": {},
   "source": [
    "19. Даны векторы A и B, написать einsum эквиваленты функций inner, outer, sum и mul"
   ]
  },
  {
   "cell_type": "code",
   "execution_count": 39,
   "metadata": {},
   "outputs": [
    {
     "name": "stdout",
     "output_type": "stream",
     "text": [
      "15.0\n",
      "[[1. 2. 3. 4. 5.]\n",
      " [1. 2. 3. 4. 5.]\n",
      " [1. 2. 3. 4. 5.]\n",
      " [1. 2. 3. 4. 5.]\n",
      " [1. 2. 3. 4. 5.]]\n",
      "5.0\n",
      "[1. 2. 3. 4. 5.]\n"
     ]
    }
   ],
   "source": [
    "A=np.ones(5)\n",
    "B=np.array([1,2,3,4,5])\n",
    "\n",
    "print(np.einsum('i,i', A, B))    # np.inner(A, B)\n",
    "print(np.einsum('i,j', A, B))    # np.outer(A, B)\n",
    "print(np.einsum('i->', A))       # np.sum(A)\n",
    "print(np.einsum('i,i->i', A, B)) # np.mul(A, B)"
   ]
  }
 ],
 "metadata": {
  "kernelspec": {
   "display_name": "Python 3",
   "language": "python",
   "name": "python3"
  },
  "language_info": {
   "codemirror_mode": {
    "name": "ipython",
    "version": 3
   },
   "file_extension": ".py",
   "mimetype": "text/x-python",
   "name": "python",
   "nbconvert_exporter": "python",
   "pygments_lexer": "ipython3",
   "version": "3.8.3"
  }
 },
 "nbformat": 4,
 "nbformat_minor": 4
}
