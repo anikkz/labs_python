{
 "cells": [
  {
   "cell_type": "markdown",
   "metadata": {},
   "source": [
    "Дан текст: в первой строке задано число строк, далее идут сами строки. Выведите слово, которое в этом тексте встречается чаще всего. Если таких слов несколько, выведите то, которое меньше в лексикографическом порядке."
   ]
  },
  {
   "cell_type": "code",
   "execution_count": null,
   "metadata": {},
   "outputs": [],
   "source": [
    "n=int(input())\n",
    "a={}\n",
    "for i in range(n):\n",
    "    slovo=input().split()\n",
    "    for i in slovo:\n",
    "        a[i] = a.get(i, 0) + 1\n",
    "max_l=max(a.values())\n",
    "\n",
    "m = 0\n",
    "l = []\n",
    "for  key, val in a.items():\n",
    "    if val > m:\n",
    "        m = val\n",
    "for  key, val in a.items():\n",
    "    if val == m:\n",
    "        l.append(key)\n",
    "l.sort()\n",
    "print(l[0])"
   ]
  }
 ],
 "metadata": {
  "kernelspec": {
   "display_name": "Python 3",
   "language": "python",
   "name": "python3"
  },
  "language_info": {
   "codemirror_mode": {
    "name": "ipython",
    "version": 3
   },
   "file_extension": ".py",
   "mimetype": "text/x-python",
   "name": "python",
   "nbconvert_exporter": "python",
   "pygments_lexer": "ipython3",
   "version": "3.8.3"
  }
 },
 "nbformat": 4,
 "nbformat_minor": 4
}
