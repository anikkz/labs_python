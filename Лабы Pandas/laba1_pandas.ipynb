{
 "cells": [
  {
   "cell_type": "markdown",
   "metadata": {},
   "source": [
    "#### Лабораторная работа по Pandas №1\n",
    "   гр.М8О-103М-20   \n",
    "   Никитина Анна   \n",
    "   дата сдачи: 21.11.2020 "
   ]
  },
  {
   "cell_type": "markdown",
   "metadata": {},
   "source": [
    "1. Импортировать модули sys numpy pandas"
   ]
  },
  {
   "cell_type": "code",
   "execution_count": 41,
   "metadata": {},
   "outputs": [],
   "source": [
    "import sys as sys\n",
    "import numpy as np\n",
    "import pandas as pd"
   ]
  },
  {
   "cell_type": "markdown",
   "metadata": {},
   "source": [
    "2. Создать объект pandas Series из листа, объекта NumPy, и словаря"
   ]
  },
  {
   "cell_type": "code",
   "execution_count": 42,
   "metadata": {},
   "outputs": [
    {
     "name": "stdout",
     "output_type": "stream",
     "text": [
      "0    4\n",
      "1    7\n",
      "2   -5\n",
      "3    3\n",
      "dtype: int64\n",
      "0    1.0\n",
      "1    1.0\n",
      "2    1.0\n",
      "dtype: float64\n",
      "msk    6000\n",
      "spb    2000\n",
      "mo      200\n",
      "dtype: int64\n"
     ]
    }
   ],
   "source": [
    "a=pd.Series([4, 7, -5, 3])\n",
    "\n",
    "b1=np.ones(3)\n",
    "b=pd.Series(b1)\n",
    "\n",
    "data= {'msk':6000,'spb':2000,'mo':200}\n",
    "c=pd.Series(data)\n",
    "\n",
    "print(a)\n",
    "print(b)\n",
    "print(c)"
   ]
  },
  {
   "cell_type": "markdown",
   "metadata": {},
   "source": [
    "3. Преобразовать объект Series в DataFrame"
   ]
  },
  {
   "cell_type": "markdown",
   "metadata": {},
   "source": [
    "создать объект Series"
   ]
  },
  {
   "cell_type": "code",
   "execution_count": 43,
   "metadata": {},
   "outputs": [],
   "source": [
    "a=pd.Series([4, 7, -5, 3])"
   ]
  },
  {
   "cell_type": "markdown",
   "metadata": {},
   "source": [
    "преобразовать в DataFrame"
   ]
  },
  {
   "cell_type": "code",
   "execution_count": 44,
   "metadata": {},
   "outputs": [
    {
     "name": "stdout",
     "output_type": "stream",
     "text": [
      "   0\n",
      "0  4\n",
      "1  7\n",
      "2 -5\n",
      "3  3\n"
     ]
    }
   ],
   "source": [
    "frame=pd.DataFrame(a)\n",
    "print(frame)"
   ]
  },
  {
   "cell_type": "markdown",
   "metadata": {},
   "source": [
    "объединить несколько объектов Series в Dataframe"
   ]
  },
  {
   "cell_type": "code",
   "execution_count": 45,
   "metadata": {},
   "outputs": [
    {
     "data": {
      "text/plain": [
       "1  0     4\n",
       "   1     7\n",
       "   2    -5\n",
       "   3     3\n",
       "2  0     a\n",
       "   1     b\n",
       "   2     c\n",
       "   3     d\n",
       "dtype: object"
      ]
     },
     "execution_count": 45,
     "metadata": {},
     "output_type": "execute_result"
    }
   ],
   "source": [
    "b=pd.Series([\"a\",\"b\",\"c\",\"d\"])\n",
    "pd.concat([a,b], keys=['1','2'])"
   ]
  },
  {
   "cell_type": "markdown",
   "metadata": {},
   "source": [
    "4. Присвоить имя индексу объекта Series"
   ]
  },
  {
   "cell_type": "code",
   "execution_count": 46,
   "metadata": {},
   "outputs": [
    {
     "name": "stdout",
     "output_type": "stream",
     "text": [
      "znachenie\n",
      "0    4\n",
      "1    7\n",
      "2   -5\n",
      "3    3\n",
      "dtype: int64\n"
     ]
    }
   ],
   "source": [
    "a=pd.Series([4, 7, -5, 3])\n",
    "a.index.name='znachenie'\n",
    "print(a)"
   ]
  },
  {
   "cell_type": "markdown",
   "metadata": {},
   "source": [
    "5. Получить элементы объекта Series A, которых нет в объекте Series B"
   ]
  },
  {
   "cell_type": "code",
   "execution_count": 47,
   "metadata": {},
   "outputs": [],
   "source": [
    "a=pd.Series([4, 7, -5, 3])\n",
    "b=pd.Series([0, 0, -5, 3])"
   ]
  },
  {
   "cell_type": "markdown",
   "metadata": {},
   "source": [
    "возвратить вместе с индексами"
   ]
  },
  {
   "cell_type": "code",
   "execution_count": 48,
   "metadata": {},
   "outputs": [
    {
     "name": "stdout",
     "output_type": "stream",
     "text": [
      "0    4\n",
      "1    7\n",
      "dtype: int64\n"
     ]
    }
   ],
   "source": [
    "ans = a[~a.isin(b)]\n",
    "print(ans)"
   ]
  },
  {
   "cell_type": "markdown",
   "metadata": {},
   "source": [
    "возвратить значения"
   ]
  },
  {
   "cell_type": "code",
   "execution_count": 49,
   "metadata": {},
   "outputs": [
    {
     "name": "stdout",
     "output_type": "stream",
     "text": [
      "[4 7]\n"
     ]
    }
   ],
   "source": [
    "ans1 = np.setdiff1d(a, b, assume_unique=False)\n",
    "print(ans1)"
   ]
  },
  {
   "cell_type": "markdown",
   "metadata": {},
   "source": [
    "6. Получить не пересекающиеся элементы в двух объектах Series"
   ]
  },
  {
   "cell_type": "markdown",
   "metadata": {},
   "source": [
    "возвратить вместе с индексами"
   ]
  },
  {
   "cell_type": "markdown",
   "metadata": {},
   "source": [
    "получить объединенный Series без повтороений"
   ]
  },
  {
   "cell_type": "code",
   "execution_count": 50,
   "metadata": {},
   "outputs": [],
   "source": [
    "a=pd.Series([4, 7, -5, 3])\n",
    "b=pd.Series([0, 0, -5, 3])"
   ]
  },
  {
   "cell_type": "code",
   "execution_count": 51,
   "metadata": {},
   "outputs": [
    {
     "name": "stdout",
     "output_type": "stream",
     "text": [
      "0   -5\n",
      "1    0\n",
      "2    3\n",
      "3    4\n",
      "4    7\n",
      "dtype: int64\n"
     ]
    }
   ],
   "source": [
    "union = pd.Series(np.union1d(a, b))\n",
    "print(union)"
   ]
  },
  {
   "cell_type": "markdown",
   "metadata": {},
   "source": [
    "получить пересекающиеся данные"
   ]
  },
  {
   "cell_type": "code",
   "execution_count": 52,
   "metadata": {},
   "outputs": [
    {
     "name": "stdout",
     "output_type": "stream",
     "text": [
      "0   -5\n",
      "1    3\n",
      "dtype: int64\n"
     ]
    }
   ],
   "source": [
    "intersect = pd.Series(np.intersect1d(a, b))\n",
    "print(intersect)"
   ]
  },
  {
   "cell_type": "markdown",
   "metadata": {},
   "source": [
    "отобрать все данные, кроме пересекающихся"
   ]
  },
  {
   "cell_type": "code",
   "execution_count": 53,
   "metadata": {},
   "outputs": [
    {
     "name": "stdout",
     "output_type": "stream",
     "text": [
      "1    0\n",
      "3    4\n",
      "4    7\n",
      "dtype: int64\n"
     ]
    }
   ],
   "source": [
    "ans = union[~union.isin(intersect)]\n",
    "print(ans)"
   ]
  },
  {
   "cell_type": "markdown",
   "metadata": {},
   "source": [
    "возвратить значения"
   ]
  },
  {
   "cell_type": "code",
   "execution_count": 54,
   "metadata": {},
   "outputs": [
    {
     "name": "stdout",
     "output_type": "stream",
     "text": [
      "[0 4 7]\n"
     ]
    }
   ],
   "source": [
    "ans2 = np.setxor1d(a, b, assume_unique=False)\n",
    "print(ans2)"
   ]
  }
 ],
 "metadata": {
  "kernelspec": {
   "display_name": "Python 3",
   "language": "python",
   "name": "python3"
  },
  "language_info": {
   "codemirror_mode": {
    "name": "ipython",
    "version": 3
   },
   "file_extension": ".py",
   "mimetype": "text/x-python",
   "name": "python",
   "nbconvert_exporter": "python",
   "pygments_lexer": "ipython3",
   "version": "3.8.3"
  }
 },
 "nbformat": 4,
 "nbformat_minor": 4
}
