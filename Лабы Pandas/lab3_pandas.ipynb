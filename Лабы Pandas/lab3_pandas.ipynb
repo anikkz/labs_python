{
 "cells": [
  {
   "cell_type": "markdown",
   "metadata": {},
   "source": [
    "---\n",
    "                                            Московский Авиационный Институт  \n",
    "                                      (Национальный Исследовательский Университет)  \n",
    "        \n",
    "                \n",
    "                 \n",
    "    Институт №8 «Информационные технологии и прикладная математика»  \n",
    "    Кафедра 806 «Вычислительная математика и программирование» \n",
    "    Дисциплина: «Разработка ПО для высокопроизводительных систем»        \n",
    "                \n",
    "\n",
    "\n",
    "\n",
    "                                            Лабораторная работа по Pandas №3  \n",
    "    \n",
    "                                            \n",
    "                                            \n",
    "                                            \n",
    "                                                                                Группа: М8О-103М-20  \n",
    "                                                                                Студент: Никитина Анна Евгеньевна  \n",
    "                                                                                Преподаватель: Поповкин Александр Викторович  \n",
    "                                                                                \n",
    "                                                                                \n",
    "                                                                                \n",
    "                                                     Москва, 2020  \n",
    "                                                         \n",
    "---"
   ]
  },
  {
   "cell_type": "markdown",
   "metadata": {},
   "source": [
    "Импорт библиотек"
   ]
  },
  {
   "cell_type": "code",
   "execution_count": 1,
   "metadata": {},
   "outputs": [],
   "source": [
    "import numpy as np\n",
    "import pandas as pd\n",
    "import matplotlib.pyplot as plt"
   ]
  },
  {
   "cell_type": "markdown",
   "metadata": {},
   "source": [
    "1. Найти евклидово расстояние между двумя объектами Series"
   ]
  },
  {
   "cell_type": "code",
   "execution_count": 3,
   "metadata": {},
   "outputs": [
    {
     "name": "stdout",
     "output_type": "stream",
     "text": [
      "0    1\n",
      "1    3\n",
      "2    1\n",
      "3    1\n",
      "4    4\n",
      "dtype: int32\n",
      "0    4\n",
      "1    4\n",
      "2    4\n",
      "3    3\n",
      "4    2\n",
      "dtype: int32\n",
      "5.196152422706632\n"
     ]
    }
   ],
   "source": [
    "s1 = pd.Series(np.random.randint(1, 5, 5))\n",
    "s2 = pd.Series(np.random.randint(1, 5, 5))\n",
    "Dist = np.linalg.norm(s1 - s2)\n",
    "print(s1)\n",
    "print(s2)\n",
    "print(Dist)"
   ]
  },
  {
   "cell_type": "markdown",
   "metadata": {},
   "source": [
    "2. Найти индексы локальных максимумов в объекте Series"
   ]
  },
  {
   "cell_type": "code",
   "execution_count": 12,
   "metadata": {},
   "outputs": [
    {
     "name": "stdout",
     "output_type": "stream",
     "text": [
      "[1 9 8 2 6 9 0 9 1 9]\n"
     ]
    },
    {
     "data": {
      "image/png": "[encoded data removed]",
      "text/plain": [
       "<Figure size 432x288 with 1 Axes>"
      ]
     },
     "metadata": {
      "needs_background": "light"
     },
     "output_type": "display_data"
    },
    {
     "name": "stdout",
     "output_type": "stream",
     "text": [
      "[-2  0  2  0 -2  2 -2  2]\n",
      "[1 5 7]\n"
     ]
    }
   ],
   "source": [
    "a = pd.Series(np.random.randint(0, 10, 10))\n",
    "print(a.values)\n",
    "plt.plot(a.index, a.values)\n",
    "plt.show()\n",
    "extr = np.diff(np.sign(np.diff(a)))\n",
    "print(extr)\n",
    "indexes = np.where(extr == -2)[0] + 1\n",
    "print(indexes)"
   ]
  },
  {
   "cell_type": "markdown",
   "metadata": {},
   "source": [
    "3. Заменить пробелы наименее часто встречающимся символом"
   ]
  },
  {
   "cell_type": "code",
   "execution_count": 24,
   "metadata": {},
   "outputs": [
    {
     "name": "stdout",
     "output_type": "stream",
     "text": [
      "     3\n",
      "е    2\n",
      "т    2\n",
      "ж    1\n",
      "м    1\n",
      "в    1\n",
      "и    1\n",
      "с    1\n",
      "у    1\n",
      "я    1\n",
      "н    1\n",
      "о    1\n",
      "dtype: int64\n",
      "яосижуовотемноте\n"
     ]
    }
   ],
   "source": [
    "testString = 'я сижу в темноте'\n",
    "s = pd.Series(list(testString))\n",
    "symbolsFreq = s.value_counts()\n",
    "print(symbolsFreq)\n",
    "testString = ''.join(s.replace(' ', symbolsFreq.index[-1]))\n",
    "print(testString)"
   ]
  },
  {
   "cell_type": "markdown",
   "metadata": {},
   "source": [
    "4. Создать объект Series, который содержит в индексах даты выходных дней субботы, а в значениях случайные числа от 1 до 10"
   ]
  },
  {
   "cell_type": "code",
   "execution_count": 19,
   "metadata": {},
   "outputs": [
    {
     "name": "stdout",
     "output_type": "stream",
     "text": [
      "2020-09-05    2\n",
      "2020-09-12    6\n",
      "2020-09-19    9\n",
      "2020-09-26    6\n",
      "2020-10-03    7\n",
      "2020-10-10    2\n",
      "2020-10-17    3\n",
      "2020-10-24    9\n",
      "2020-10-31    4\n",
      "2020-11-07    8\n",
      "2020-11-14    7\n",
      "2020-11-21    1\n",
      "2020-11-28    4\n",
      "2020-12-05    7\n",
      "2020-12-12    7\n",
      "Freq: W-SAT, dtype: int32\n"
     ]
    }
   ],
   "source": [
    "s = pd.Series(np.random.randint(1, 10, 15), pd.date_range('2020-09-01', periods = 15, freq = 'W-SAT'))\n",
    "print(s)"
   ]
  },
  {
   "cell_type": "markdown",
   "metadata": {},
   "source": [
    "5. Заполнить пропущенные даты, значением выше (заполненной даты)"
   ]
  },
  {
   "cell_type": "code",
   "execution_count": 7,
   "metadata": {},
   "outputs": [
    {
     "name": "stdout",
     "output_type": "stream",
     "text": [
      "2020-09-01    1\n",
      "2020-09-05    2\n",
      "2020-09-09    3\n",
      "dtype: int64\n",
      "2020-09-01    1\n",
      "2020-09-02    1\n",
      "2020-09-03    1\n",
      "2020-09-04    1\n",
      "2020-09-05    2\n",
      "2020-09-06    2\n",
      "2020-09-07    2\n",
      "2020-09-08    2\n",
      "2020-09-09    3\n",
      "Freq: D, dtype: int64\n"
     ]
    }
   ],
   "source": [
    "filledDates = pd.Series([1, 2, 3], index = pd.to_datetime(['2020-09-01', '2020-09-05', '2020-09-09']))\n",
    "print(filledDates)\n",
    "allDates = filledDates.resample('D').ffill()\n",
    "print(allDates)"
   ]
  },
  {
   "cell_type": "markdown",
   "metadata": {},
   "source": [
    "6. Вычислить автокорреляцию объекта Series"
   ]
  },
  {
   "cell_type": "code",
   "execution_count": 18,
   "metadata": {
    "scrolled": true
   },
   "outputs": [
    {
     "name": "stdout",
     "output_type": "stream",
     "text": [
      "0    1\n",
      "1    1\n",
      "2    5\n",
      "3    0\n",
      "4    4\n",
      "dtype: int32\n",
      "-0.7262353246432734\n"
     ]
    }
   ],
   "source": [
    "a = pd.Series(np.random.randint(0, 6, 5))\n",
    "print(a)\n",
    "autocorr = a.autocorr()\n",
    "print(autocorr)"
   ]
  }
 ],
 "metadata": {
  "kernelspec": {
   "display_name": "Python 3",
   "language": "python",
   "name": "python3"
  },
  "language_info": {
   "codemirror_mode": {
    "name": "ipython",
    "version": 3
   },
   "file_extension": ".py",
   "mimetype": "text/x-python",
   "name": "python",
   "nbconvert_exporter": "python",
   "pygments_lexer": "ipython3",
   "version": "3.8.3"
  }
 },
 "nbformat": 4,
 "nbformat_minor": 4
}
