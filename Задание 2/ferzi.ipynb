{
 "cells": [
  {
   "cell_type": "markdown",
   "metadata": {},
   "source": [
    "Известно, что на доске 8×8 можно расставить 8 ферзей так, чтобы они не били друг друга. Вам дана расстановка 8 ферзей на доске, определите, есть ли среди них пара бьющих друг друга.\n",
    "Программа получает на вход восемь пар чисел, каждое число от 1 до 8 — координаты 8 ферзей. Если ферзи не бьют друг друга, выведите слово NO, иначе выведите YES."
   ]
  },
  {
   "cell_type": "code",
   "execution_count": null,
   "metadata": {},
   "outputs": [],
   "source": [
    "x = []\n",
    "y = []\n",
    "p=2\n",
    "for i in range(0,8):  \n",
    "    x_nov, y_nov = [int(s) for s in input().split()]  # считываем очередной элемент\n",
    "    x.append(x_nov)\n",
    "    y.append(y_nov)\n",
    "p=0\n",
    "for i in range(8):\n",
    "    for j in range(i+1,8):\n",
    "        if x[i]==x[j] or y[i]==y[j] or abs(x[i] - x[j]) == abs(y[i] - y[j]):\n",
    "            p+=1\n",
    "            \n",
    "if p!=0:\n",
    "    print('YES')\n",
    "else:\n",
    "    print('NO')\n"
   ]
  }
 ],
 "metadata": {
  "kernelspec": {
   "display_name": "Python 3",
   "language": "python",
   "name": "python3"
  },
  "language_info": {
   "codemirror_mode": {
    "name": "ipython",
    "version": 3
   },
   "file_extension": ".py",
   "mimetype": "text/x-python",
   "name": "python",
   "nbconvert_exporter": "python",
   "pygments_lexer": "ipython3",
   "version": "3.8.3"
  }
 },
 "nbformat": 4,
 "nbformat_minor": 4
}
