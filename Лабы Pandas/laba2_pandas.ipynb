{
 "cells": [
  {
   "cell_type": "markdown",
   "metadata": {},
   "source": [
    "---\n",
    "                                            Московский Авиационный Институт  \n",
    "                                      (Национальный Исследовательский Университет)  \n",
    "        \n",
    "                \n",
    "                 \n",
    "    Институт №8 «Информационные технологии и прикладная математика»  \n",
    "    Кафедра 806 «Вычислительная математика и программирование» \n",
    "    Дисциплина: «Разработка ПО для высокопроизводительных систем»        \n",
    "                \n",
    "\n",
    "\n",
    "\n",
    "                                            Лабораторная работа по Pandas №2  \n",
    "    \n",
    "                                            \n",
    "                                            \n",
    "                                            \n",
    "                                                                                Группа: М8О-103М-20  \n",
    "                                                                                Студент: Никитина Анна Евгеньевна  \n",
    "                                                                                Преподаватель: Поповкин Александр Викторович  \n",
    "                                                                                \n",
    "                                                                                \n",
    "                                                                                \n",
    "                                                     Москва, 2020  \n",
    "                                                         \n",
    "---"
   ]
  },
  {
   "cell_type": "code",
   "execution_count": 1,
   "metadata": {},
   "outputs": [],
   "source": [
    "import numpy as np\n",
    "import pandas as pd\n",
    "import matplotlib.pyplot as plt"
   ]
  },
  {
   "cell_type": "markdown",
   "metadata": {},
   "source": [
    "1. Получить от объекта Series показатели описательной статистики"
   ]
  },
  {
   "cell_type": "code",
   "execution_count": 2,
   "metadata": {},
   "outputs": [
    {
     "data": {
      "text/plain": [
       "count    4.000000\n",
       "mean     2.250000\n",
       "std      5.123475\n",
       "min     -5.000000\n",
       "25%      1.000000\n",
       "50%      3.500000\n",
       "75%      4.750000\n",
       "max      7.000000\n",
       "dtype: float64"
      ]
     },
     "execution_count": 2,
     "metadata": {},
     "output_type": "execute_result"
    }
   ],
   "source": [
    "a=pd.Series([4, 7, -5, 3])\n",
    "a.describe()"
   ]
  },
  {
   "cell_type": "markdown",
   "metadata": {},
   "source": [
    "2. Узнать частоту уникальных элементов объекта Series (гистограмма)"
   ]
  },
  {
   "cell_type": "code",
   "execution_count": 3,
   "metadata": {},
   "outputs": [
    {
     "data": {
      "text/plain": [
       "<BarContainer object of 4 artists>"
      ]
     },
     "execution_count": 3,
     "metadata": {},
     "output_type": "execute_result"
    },
    {
     "data": {
      "image/png": "[encoded data removed]",
      "text/plain": [
       "<Figure size 432x288 with 1 Axes>"
      ]
     },
     "metadata": {
      "needs_background": "light"
     },
     "output_type": "display_data"
    }
   ],
   "source": [
    "a=pd.Series([4, 7, -5, 3, 4, 4, 7])\n",
    "freq=a.value_counts()\n",
    "plt.bar(freq.index, freq.values)"
   ]
  },
  {
   "cell_type": "markdown",
   "metadata": {},
   "source": [
    "3. Заменить все элементы объекта Series на \"Other\", кроме двух наиболее часто встречающихся"
   ]
  },
  {
   "cell_type": "code",
   "execution_count": 4,
   "metadata": {},
   "outputs": [
    {
     "name": "stdout",
     "output_type": "stream",
     "text": [
      " 4    3\n",
      " 7    2\n",
      "-5    1\n",
      " 3    1\n",
      "dtype: int64\n"
     ]
    },
    {
     "data": {
      "text/html": [
       "<div>\n",
       "<style scoped>\n",
       "    .dataframe tbody tr th:only-of-type {\n",
       "        vertical-align: middle;\n",
       "    }\n",
       "\n",
       "    .dataframe tbody tr th {\n",
       "        vertical-align: top;\n",
       "    }\n",
       "\n",
       "    .dataframe thead th {\n",
       "        text-align: right;\n",
       "    }\n",
       "</style>\n",
       "<table border=\"1\" class=\"dataframe\">\n",
       "  <thead>\n",
       "    <tr style=\"text-align: right;\">\n",
       "      <th></th>\n",
       "      <th>old</th>\n",
       "      <th>new</th>\n",
       "    </tr>\n",
       "  </thead>\n",
       "  <tbody>\n",
       "    <tr>\n",
       "      <th>0</th>\n",
       "      <td>4</td>\n",
       "      <td>4</td>\n",
       "    </tr>\n",
       "    <tr>\n",
       "      <th>1</th>\n",
       "      <td>7</td>\n",
       "      <td>7</td>\n",
       "    </tr>\n",
       "    <tr>\n",
       "      <th>2</th>\n",
       "      <td>-5</td>\n",
       "      <td>Other</td>\n",
       "    </tr>\n",
       "    <tr>\n",
       "      <th>3</th>\n",
       "      <td>3</td>\n",
       "      <td>Other</td>\n",
       "    </tr>\n",
       "    <tr>\n",
       "      <th>4</th>\n",
       "      <td>4</td>\n",
       "      <td>4</td>\n",
       "    </tr>\n",
       "    <tr>\n",
       "      <th>5</th>\n",
       "      <td>4</td>\n",
       "      <td>4</td>\n",
       "    </tr>\n",
       "    <tr>\n",
       "      <th>6</th>\n",
       "      <td>7</td>\n",
       "      <td>7</td>\n",
       "    </tr>\n",
       "  </tbody>\n",
       "</table>\n",
       "</div>"
      ],
      "text/plain": [
       "   old    new\n",
       "0    4      4\n",
       "1    7      7\n",
       "2   -5  Other\n",
       "3    3  Other\n",
       "4    4      4\n",
       "5    4      4\n",
       "6    7      7"
      ]
     },
     "execution_count": 4,
     "metadata": {},
     "output_type": "execute_result"
    }
   ],
   "source": [
    "a=pd.Series([4, 7, -5, 3, 4, 4, 7])\n",
    "print(a.value_counts())\n",
    "b=a.copy()\n",
    "b[~b.isin(b.value_counts().index[:2])]=\"Other\"\n",
    "a.name=\"old\"\n",
    "b.name=\"new\"\n",
    "pd.concat([a,b], axis=1)"
   ]
  },
  {
   "cell_type": "markdown",
   "metadata": {},
   "source": [
    "4. Создать объект Series в индексах дата каждый день 2019 года, в значениях случайное значение"
   ]
  },
  {
   "cell_type": "code",
   "execution_count": 75,
   "metadata": {},
   "outputs": [
    {
     "name": "stdout",
     "output_type": "stream",
     "text": [
      "2019-01-01    0.954944\n",
      "2019-01-02    0.148625\n",
      "2019-01-03    0.535573\n",
      "2019-01-04    0.153284\n",
      "2019-01-05    0.382269\n",
      "                ...   \n",
      "2019-12-27    0.985662\n",
      "2019-12-28    0.127555\n",
      "2019-12-29    0.308994\n",
      "2019-12-30    0.923306\n",
      "2019-12-31    0.710526\n",
      "Freq: D, Length: 365, dtype: float64\n"
     ]
    }
   ],
   "source": [
    "data=pd.date_range(start = '2019-01-01', end = '2019-12-31')\n",
    "a=pd.Series(np.random.rand(len(data)), index = data)\n",
    "print(a)"
   ]
  },
  {
   "cell_type": "markdown",
   "metadata": {},
   "source": [
    "Найти сумму всех вторников"
   ]
  },
  {
   "cell_type": "code",
   "execution_count": 74,
   "metadata": {},
   "outputs": [
    {
     "ename": "AttributeError",
     "evalue": "'RangeIndex' object has no attribute 'weekday'",
     "output_type": "error",
     "traceback": [
      "\u001b[1;31m---------------------------------------------------------------------------\u001b[0m",
      "\u001b[1;31mAttributeError\u001b[0m                            Traceback (most recent call last)",
      "\u001b[1;32m<ipython-input-74-6905718ebacd>\u001b[0m in \u001b[0;36m<module>\u001b[1;34m\u001b[0m\n\u001b[1;32m----> 1\u001b[1;33m \u001b[0mvtornik\u001b[0m\u001b[1;33m=\u001b[0m\u001b[0mnp\u001b[0m\u001b[1;33m.\u001b[0m\u001b[0msum\u001b[0m\u001b[1;33m(\u001b[0m\u001b[0ma\u001b[0m\u001b[1;33m[\u001b[0m\u001b[0ma\u001b[0m\u001b[1;33m.\u001b[0m\u001b[0mindex\u001b[0m\u001b[1;33m.\u001b[0m\u001b[0mweekday\u001b[0m \u001b[1;33m==\u001b[0m \u001b[1;36m1\u001b[0m\u001b[1;33m]\u001b[0m\u001b[1;33m)\u001b[0m\u001b[1;33m\u001b[0m\u001b[1;33m\u001b[0m\u001b[0m\n\u001b[0m\u001b[0;32m      2\u001b[0m \u001b[0mprint\u001b[0m\u001b[1;33m(\u001b[0m\u001b[0mvtornik\u001b[0m\u001b[1;33m)\u001b[0m\u001b[1;33m\u001b[0m\u001b[1;33m\u001b[0m\u001b[0m\n",
      "\u001b[1;31mAttributeError\u001b[0m: 'RangeIndex' object has no attribute 'weekday'"
     ]
    }
   ],
   "source": [
    "vtornik=np.sum(a[a.index.weekday == 1])\n",
    "print(vtornik)"
   ]
  },
  {
   "cell_type": "markdown",
   "metadata": {},
   "source": [
    "Для каждого месяца найти среднее значение"
   ]
  },
  {
   "cell_type": "code",
   "execution_count": 7,
   "metadata": {},
   "outputs": [
    {
     "name": "stdout",
     "output_type": "stream",
     "text": [
      "2019-01-31    0.486518\n",
      "2019-02-28    0.429709\n",
      "2019-03-31    0.471264\n",
      "2019-04-30    0.492948\n",
      "2019-05-31    0.444393\n",
      "2019-06-30    0.598744\n",
      "2019-07-31    0.396798\n",
      "2019-08-31    0.536913\n",
      "2019-09-30    0.484891\n",
      "2019-10-31    0.491351\n",
      "2019-11-30    0.530153\n",
      "2019-12-31    0.495439\n",
      "Freq: M, dtype: float64\n"
     ]
    }
   ],
   "source": [
    "srednee=a.resample('M').mean()\n",
    "print(srednee)"
   ]
  },
  {
   "cell_type": "markdown",
   "metadata": {},
   "source": [
    "5. Преобразовать объект Series в DataFrame заданной формы (shape)"
   ]
  },
  {
   "cell_type": "code",
   "execution_count": 8,
   "metadata": {},
   "outputs": [
    {
     "name": "stdout",
     "output_type": "stream",
     "text": [
      "   0  1\n",
      "0  4  7\n",
      "1 -5  3\n"
     ]
    }
   ],
   "source": [
    "a=pd.Series([4, 7, -5, 3])\n",
    "b=pd.DataFrame(a.values.reshape(2,2))\n",
    "print(b)"
   ]
  },
  {
   "cell_type": "markdown",
   "metadata": {},
   "source": [
    "6. Найти индексы объекта Series кратные 3"
   ]
  },
  {
   "cell_type": "code",
   "execution_count": 9,
   "metadata": {},
   "outputs": [
    {
     "name": "stdout",
     "output_type": "stream",
     "text": [
      "3    3\n",
      "6    6\n",
      "dtype: int64\n"
     ]
    }
   ],
   "source": [
    "a=pd.Series([4, 7, -5, 3, 10, 4, 6, 8])\n",
    "print(a[3::3])"
   ]
  },
  {
   "cell_type": "markdown",
   "metadata": {},
   "source": [
    "7. Получить данные по индексам объекта Series"
   ]
  },
  {
   "cell_type": "code",
   "execution_count": 10,
   "metadata": {},
   "outputs": [
    {
     "name": "stdout",
     "output_type": "stream",
     "text": [
      "4    10\n",
      "0     4\n",
      "2    -5\n",
      "5     4\n",
      "dtype: int64\n"
     ]
    }
   ],
   "source": [
    "a=pd.Series([4, 7, -5, 3, 10, 4, 6, 8])\n",
    "ind=np.random.randint(0, len(a), size=4)\n",
    "print(a[ind])"
   ]
  },
  {
   "cell_type": "markdown",
   "metadata": {},
   "source": [
    "8. Объединить два объекта Series вертикально и горизонтально"
   ]
  },
  {
   "cell_type": "code",
   "execution_count": 13,
   "metadata": {},
   "outputs": [
    {
     "name": "stdout",
     "output_type": "stream",
     "text": [
      "0      Lisa\n",
      "1      Lola\n",
      "2      Jack\n",
      "3      Fred\n",
      "4    Antony\n",
      "0         1\n",
      "1         3\n",
      "2         5\n",
      "3         6\n",
      "4         2\n",
      "dtype: object\n",
      "     name  fail\n",
      "0    Lisa     1\n",
      "1    Lola     3\n",
      "2    Jack     5\n",
      "3    Fred     6\n",
      "4  Antony     2\n"
     ]
    }
   ],
   "source": [
    "a=pd.Series([\"Lisa\", \"Lola\", \"Jack\", \"Fred\", \"Antony\"], name=\"name\")\n",
    "b=pd.Series([1, 3, 5, 6, 2], name=\"fail\")\n",
    "print(pd.concat([a,b]))\n",
    "print(pd.concat([a,b], axis=1))"
   ]
  },
  {
   "cell_type": "markdown",
   "metadata": {},
   "source": [
    "9. Получить индексы объекта Series A, данные которых содержатся в объетке Series B"
   ]
  },
  {
   "cell_type": "code",
   "execution_count": 17,
   "metadata": {},
   "outputs": [
    {
     "data": {
      "text/plain": [
       "Int64Index([2, 4], dtype='int64')"
      ]
     },
     "execution_count": 17,
     "metadata": {},
     "output_type": "execute_result"
    }
   ],
   "source": [
    "a=pd.Series([11, 9, 2, 7, 3])\n",
    "b=pd.Series([1, 3, 5, 6, 2])\n",
    "a[a.isin(b)].index"
   ]
  },
  {
   "cell_type": "markdown",
   "metadata": {},
   "source": [
    "10. Получить объект Series B, котоырй содержит элементы без повторений объекта A"
   ]
  },
  {
   "cell_type": "code",
   "execution_count": 21,
   "metadata": {},
   "outputs": [
    {
     "name": "stdout",
     "output_type": "stream",
     "text": [
      "[11  9  2  7  3]\n"
     ]
    }
   ],
   "source": [
    "a=pd.Series([11, 9, 2, 7, 3, 11, 2, 2, 7])\n",
    "b=a.unique()\n",
    "print(b)"
   ]
  },
  {
   "cell_type": "markdown",
   "metadata": {},
   "source": [
    "11. Преобразовать каждый символ объекта Series в верхний регистр"
   ]
  },
  {
   "cell_type": "code",
   "execution_count": 41,
   "metadata": {},
   "outputs": [
    {
     "name": "stdout",
     "output_type": "stream",
     "text": [
      "0      LISA\n",
      "1      LOLA\n",
      "2      JACK\n",
      "3      FRED\n",
      "4    ANTONY\n",
      "dtype: object\n"
     ]
    }
   ],
   "source": [
    "a=pd.Series([\"Lisa\", \"Lola\", \"Jack\", \"Fred\", \"Antony\"])\n",
    "b=a.str.upper()\n",
    "print(b)"
   ]
  },
  {
   "cell_type": "markdown",
   "metadata": {},
   "source": [
    "12. Преобразовать данных Series в строку"
   ]
  },
  {
   "cell_type": "code",
   "execution_count": 34,
   "metadata": {},
   "outputs": [
    {
     "name": "stdout",
     "output_type": "stream",
     "text": [
      "Lisa Lola Jack Fred Antony <class 'str'>\n"
     ]
    }
   ],
   "source": [
    "a=pd.Series([\"Lisa\", \"Lola\", \"Jack\", \"Fred\", \"Antony\"])\n",
    "b=a.str.cat(sep=\" \")\n",
    "print(b, type(b))"
   ]
  },
  {
   "cell_type": "markdown",
   "metadata": {},
   "source": [
    "13. Рассчитать количество символов в объекте Series"
   ]
  },
  {
   "cell_type": "code",
   "execution_count": 48,
   "metadata": {},
   "outputs": [
    {
     "name": "stdout",
     "output_type": "stream",
     "text": [
      "0    4\n",
      "1    4\n",
      "2    4\n",
      "3    4\n",
      "4    6\n",
      "dtype: int64\n",
      "22\n"
     ]
    }
   ],
   "source": [
    "a=pd.Series([\"Lisa\", \"Lola\", \"Jack\", \"Fred\", \"Antony\"])\n",
    "b=a.str.len()\n",
    "print(b) #колчиество символов одного элемента\n",
    "print(np.sum(b)) #количество символов во всей серии"
   ]
  },
  {
   "cell_type": "markdown",
   "metadata": {},
   "source": [
    "14. Преобразовать в строковый тип"
   ]
  },
  {
   "cell_type": "code",
   "execution_count": 39,
   "metadata": {},
   "outputs": [
    {
     "name": "stdout",
     "output_type": "stream",
     "text": [
      "0    11\n",
      "1     9\n",
      "2     2\n",
      "3     7\n",
      "4     3\n",
      "5    11\n",
      "6     2\n",
      "7     2\n",
      "8     7\n",
      "dtype: object <class 'str'>\n"
     ]
    }
   ],
   "source": [
    "a=pd.Series([11, 9, 2, 7, 3, 11, 2, 2, 7])\n",
    "b=a.map(lambda x: str(x))\n",
    "print(b, type(b[0]))"
   ]
  },
  {
   "cell_type": "markdown",
   "metadata": {},
   "source": [
    "15. Найти разность между объектом Series и смещением объекта Series на n"
   ]
  },
  {
   "cell_type": "code",
   "execution_count": 49,
   "metadata": {},
   "outputs": [
    {
     "name": "stdout",
     "output_type": "stream",
     "text": [
      "0    NaN\n",
      "1    NaN\n",
      "2    NaN\n",
      "3    0.0\n",
      "4    2.0\n",
      "dtype: float64\n"
     ]
    }
   ],
   "source": [
    "n=3\n",
    "a=pd.Series([11, 9, 2, 7, 3, 11, 2, 2, 7])\n",
    "b=b.diff(periods = n)\n",
    "print(b)"
   ]
  },
  {
   "cell_type": "markdown",
   "metadata": {},
   "source": [
    "16. Преобразовать разные форматы строк объекта Series в дату"
   ]
  },
  {
   "cell_type": "code",
   "execution_count": 55,
   "metadata": {},
   "outputs": [
    {
     "name": "stdout",
     "output_type": "stream",
     "text": [
      "0   2021-05-01\n",
      "1   2019-09-16\n",
      "2   2020-12-22\n",
      "dtype: datetime64[ns]\n"
     ]
    }
   ],
   "source": [
    "a=pd.Series(['2021-05-01', '16 Sep 2019', '2020/12/22'])\n",
    "date=pd.to_datetime(a)\n",
    "print(date)"
   ]
  },
  {
   "cell_type": "markdown",
   "metadata": {},
   "source": [
    "все данные должны иметь одинаковый формат (часто бывает выгрузка из SQL)       \n",
    "      преобразовать в дату   "
   ]
  },
  {
   "cell_type": "code",
   "execution_count": 61,
   "metadata": {},
   "outputs": [
    {
     "name": "stdout",
     "output_type": "stream",
     "text": [
      "0   2021-05-01\n",
      "1   2019-09-16\n",
      "2   2020-12-22\n",
      "dtype: datetime64[ns]\n"
     ]
    }
   ],
   "source": [
    "a=pd.Series(['2021-05-01', '2019-09-16', '2020-12-22'])\n",
    "date2=pd.to_datetime(a, format=\"%Y.%m.%d\")\n",
    "print(date2)"
   ]
  },
  {
   "cell_type": "markdown",
   "metadata": {},
   "source": [
    "Получить год, месяц, день, день недели, номер дня в году от объекта Series (string)"
   ]
  },
  {
   "cell_type": "markdown",
   "metadata": {},
   "source": [
    "получить года"
   ]
  },
  {
   "cell_type": "code",
   "execution_count": 63,
   "metadata": {},
   "outputs": [
    {
     "name": "stdout",
     "output_type": "stream",
     "text": [
      "0    2021\n",
      "1    2019\n",
      "2    2020\n",
      "dtype: int64\n"
     ]
    }
   ],
   "source": [
    "year=date2.dt.year\n",
    "print(year)"
   ]
  },
  {
   "cell_type": "markdown",
   "metadata": {},
   "source": [
    "получить месяца"
   ]
  },
  {
   "cell_type": "code",
   "execution_count": 64,
   "metadata": {},
   "outputs": [
    {
     "name": "stdout",
     "output_type": "stream",
     "text": [
      "0     5\n",
      "1     9\n",
      "2    12\n",
      "dtype: int64\n"
     ]
    }
   ],
   "source": [
    "mon=date2.dt.month\n",
    "print(mon)"
   ]
  },
  {
   "cell_type": "markdown",
   "metadata": {},
   "source": [
    "получить дни"
   ]
  },
  {
   "cell_type": "code",
   "execution_count": 66,
   "metadata": {},
   "outputs": [
    {
     "name": "stdout",
     "output_type": "stream",
     "text": [
      "0     1\n",
      "1    16\n",
      "2    22\n",
      "dtype: int64\n"
     ]
    }
   ],
   "source": [
    "day=date2.dt.day\n",
    "print(day)"
   ]
  },
  {
   "cell_type": "markdown",
   "metadata": {},
   "source": [
    "получить номер недели"
   ]
  },
  {
   "cell_type": "code",
   "execution_count": 67,
   "metadata": {},
   "outputs": [
    {
     "name": "stdout",
     "output_type": "stream",
     "text": [
      "0    17\n",
      "1    38\n",
      "2    52\n",
      "dtype: int64\n"
     ]
    }
   ],
   "source": [
    "week=date2.dt.weekofyear\n",
    "print(week)"
   ]
  },
  {
   "cell_type": "markdown",
   "metadata": {},
   "source": [
    "получить номер дня в году"
   ]
  },
  {
   "cell_type": "code",
   "execution_count": 68,
   "metadata": {},
   "outputs": [
    {
     "name": "stdout",
     "output_type": "stream",
     "text": [
      "0    121\n",
      "1    259\n",
      "2    357\n",
      "dtype: int64\n"
     ]
    }
   ],
   "source": [
    "day2=date2.dt.dayofyear\n",
    "print(day2)"
   ]
  },
  {
   "cell_type": "markdown",
   "metadata": {},
   "source": [
    "17. Отобрать элементы объекта Series, которые содержат не менее двух гласных"
   ]
  },
  {
   "cell_type": "code",
   "execution_count": 73,
   "metadata": {},
   "outputs": [
    {
     "data": {
      "text/plain": [
       "0    Программист\n",
       "1          решал\n",
       "2       проблему\n",
       "4         Теперь\n",
       "6           него\n",
       "dtype: object"
      ]
     },
     "execution_count": 73,
     "metadata": {},
     "output_type": "execute_result"
    }
   ],
   "source": [
    "import re #подключение регулярных выражений\n",
    "words = pd.Series(['Программист', 'решал', 'проблему', 'сам.', 'Теперь', 'у', 'него', 'их', 'две'])\n",
    "words[words.map(lambda word: bool(re.match('([^aeiouyаоиеёэыуюя]*[aeiouyаоиеёэыуюя]){2,}', word, re.I)))]"
   ]
  },
  {
   "cell_type": "markdown",
   "metadata": {},
   "source": [
    "18. Отобрать e-маилы из объекта Series"
   ]
  },
  {
   "cell_type": "code",
   "execution_count": 72,
   "metadata": {},
   "outputs": [
    {
     "data": {
      "text/plain": [
       "0           123456@i.ru\n",
       "1    _login@ru.name.com\n",
       "dtype: object"
      ]
     },
     "execution_count": 72,
     "metadata": {},
     "output_type": "execute_result"
    }
   ],
   "source": [
    "emails = pd.Series(['123456@i.ru', '_login@ru.name.com', 'login.3@i.c', 'login@.ru', 'login@com', 'log/in/@i.com'])\n",
    "emails[emails.map(lambda email: bool(re.match('[A-Za-z0-9._%+-]+@[A-Za-z0-9.-]+\\.[A-Za-z]{2,}', email)))]"
   ]
  },
  {
   "cell_type": "markdown",
   "metadata": {},
   "source": [
    "19. Получить среднее значение каждого уникального объекта Series s1 через \"маску\" другого объекта Series s2"
   ]
  },
  {
   "cell_type": "code",
   "execution_count": 71,
   "metadata": {},
   "outputs": [
    {
     "name": "stdout",
     "output_type": "stream",
     "text": [
      "   Values Mask\n",
      "0       3    A\n",
      "1       2    B\n",
      "2       1    D\n",
      "3       4    A\n",
      "4       4    C\n",
      "5       3    C\n",
      "6       1    A\n",
      "7       4    A\n",
      "8       1    B\n",
      "9       4    A\n"
     ]
    },
    {
     "data": {
      "text/plain": [
       "Mask\n",
       "A    3.2\n",
       "B    1.5\n",
       "C    3.5\n",
       "D    1.0\n",
       "Name: Values, dtype: float64"
      ]
     },
     "execution_count": 71,
     "metadata": {},
     "output_type": "execute_result"
    }
   ],
   "source": [
    "s1 = pd.Series(np.random.randint(1, 6, 10), name = \"Values\")\n",
    "s2 = pd.Series(np.random.choice(['A', 'B', 'C', 'D'], 10), name = \"Mask\")\n",
    "print(pd.concat([s1, s2], axis = 1))\n",
    "s1.groupby(s2).mean()"
   ]
  }
 ],
 "metadata": {
  "kernelspec": {
   "display_name": "Python 3",
   "language": "python",
   "name": "python3"
  },
  "language_info": {
   "codemirror_mode": {
    "name": "ipython",
    "version": 3
   },
   "file_extension": ".py",
   "mimetype": "text/x-python",
   "name": "python",
   "nbconvert_exporter": "python",
   "pygments_lexer": "ipython3",
   "version": "3.8.3"
  }
 },
 "nbformat": 4,
 "nbformat_minor": 4
}
