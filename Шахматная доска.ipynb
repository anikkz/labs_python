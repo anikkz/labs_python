{
 "cells": [
  {
   "cell_type": "markdown",
   "metadata": {},
   "source": [
    "Считываем данные о двух клетках шахматной доски"
   ]
  },
  {
   "cell_type": "code",
   "execution_count": 13,
   "metadata": {
    "scrolled": true
   },
   "outputs": [
    {
     "name": "stdout",
     "output_type": "stream",
     "text": [
      "2\n",
      "6\n",
      "3\n",
      "1\n"
     ]
    }
   ],
   "source": [
    "a=[0, 0]\n",
    "b=[0, 0]\n",
    "a[0]=int(input())\n",
    "a[1]=int(input())\n",
    "b[0]=int(input())\n",
    "b[1]=int(input())"
   ]
  },
  {
   "cell_type": "markdown",
   "metadata": {},
   "source": [
    "Определяем одного ли цвета клетки:\n",
    "<br> если да, выводится YES\n",
    "<br> если нет, выводится NO"
   ]
  },
  {
   "cell_type": "code",
   "execution_count": 15,
   "metadata": {},
   "outputs": [
    {
     "name": "stdout",
     "output_type": "stream",
     "text": [
      "YES\n"
     ]
    }
   ],
   "source": [
    "if a[0]==a[1] and b[1]==b[0]: \n",
    "    print(\"YES\")\n",
    "elif a[0]==b[1] and a[1]==b[0]:   \n",
    "    print(\"YES\")\n",
    "elif a[0]%2==b[0]%2 and a[1]%2!=0 and b[1]%2!=0:   \n",
    "    print(\"YES\")\n",
    "elif a[1]%2==b[1]%2 and a[0]%2!=0 and b[0]%2!=0:\n",
    "    print(\"YES\")\n",
    "elif a[0]%2==b[1]%2 and a[1]%2!=0 and b[0]%2!=0:\n",
    "    print(\"YES\")\n",
    "elif a[0]%2!=0 and a[1]%2==b[0]%2 and b[1]%2!=0:\n",
    "    print(\"YES\")\n",
    "elif a[0]%2==a[1]%2==0 and b[0]%2==b[1]%2==0:\n",
    "    print(\"YES\")\n",
    "elif a[0]%2!=0 and a[1]%2!=0 and b[0]%2!=0 and b[1]%2!=0:\n",
    "    print(\"YES\")\n",
    "elif a[0]%2!=0 and a[1]%2!=0 and b[0]%2==b[1]%2==0:\n",
    "    print(\"YES\")\n",
    "elif b[0]%2!=0 and b[1]%2!=0 and a[0]%2==a[1]%2==0:\n",
    "    print(\"YES\")\n",
    "elif b[0]%2==a[1]%2 and b[1]%2!=0 and a[0]%2!=0:\n",
    "    print(\"YES\")\n",
    "else:\n",
    "    print(\"NO\")"
   ]
  },
  {
   "cell_type": "code",
   "execution_count": null,
   "metadata": {},
   "outputs": [],
   "source": []
  }
 ],
 "metadata": {
  "kernelspec": {
   "display_name": "Python 3",
   "language": "python",
   "name": "python3"
  },
  "language_info": {
   "codemirror_mode": {
    "name": "ipython",
    "version": 3
   },
   "file_extension": ".py",
   "mimetype": "text/x-python",
   "name": "python",
   "nbconvert_exporter": "python",
   "pygments_lexer": "ipython3",
   "version": "3.7.1"
  }
 },
 "nbformat": 4,
 "nbformat_minor": 2
}
