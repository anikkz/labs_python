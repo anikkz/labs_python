{
 "cells": [
  {
   "cell_type": "markdown",
   "metadata": {},
   "source": [
    "#### Подключение библиотек"
   ]
  },
  {
   "cell_type": "code",
   "execution_count": 157,
   "metadata": {},
   "outputs": [],
   "source": [
    "import numpy as np\n",
    "import matplotlib.pyplot as plt"
   ]
  },
  {
   "cell_type": "markdown",
   "metadata": {},
   "source": [
    "#### Дано:"
   ]
  },
  {
   "cell_type": "markdown",
   "metadata": {},
   "source": [
    "Число Шервуда"
   ]
  },
  {
   "cell_type": "code",
   "execution_count": 158,
   "metadata": {},
   "outputs": [],
   "source": [
    "Sc = 1"
   ]
  },
  {
   "cell_type": "markdown",
   "metadata": {},
   "source": [
    "Температуры воздуха, воды и льда"
   ]
  },
  {
   "cell_type": "code",
   "execution_count": 159,
   "metadata": {},
   "outputs": [],
   "source": [
    "Tvozd = 20 #градус С\n",
    "Tvod = 0 #градус С\n",
    "Tlda = -10 #градус С"
   ]
  },
  {
   "cell_type": "markdown",
   "metadata": {},
   "source": [
    "Относительная влажность"
   ]
  },
  {
   "cell_type": "code",
   "execution_count": 160,
   "metadata": {},
   "outputs": [],
   "source": [
    "fi = 0.6"
   ]
  },
  {
   "cell_type": "markdown",
   "metadata": {},
   "source": [
    "Скорость воздуха"
   ]
  },
  {
   "cell_type": "code",
   "execution_count": 161,
   "metadata": {},
   "outputs": [],
   "source": [
    "v = 1  #м/с"
   ]
  },
  {
   "cell_type": "markdown",
   "metadata": {},
   "source": [
    "#### Табличные данные"
   ]
  },
  {
   "cell_type": "markdown",
   "metadata": {},
   "source": [
    "Плотности"
   ]
  },
  {
   "cell_type": "code",
   "execution_count": 162,
   "metadata": {},
   "outputs": [],
   "source": [
    "ROlda = 918.9 #кг/м3\n",
    "ROpar_nas_tvod = 0.00484 #кг/м3\n",
    "ROvozd_tvod = 1.293 #кг/м3\n",
    "ROpar_nas_tvozd = 0.01729 #кг/м3\n",
    "ROvozd_tvozd = 1.205 #кг/м3"
   ]
  },
  {
   "cell_type": "markdown",
   "metadata": {},
   "source": [
    "Теплоекость пара"
   ]
  },
  {
   "cell_type": "code",
   "execution_count": 163,
   "metadata": {},
   "outputs": [],
   "source": [
    "Cpar = 1.877*(10**3) #Дж/(кг*град)"
   ]
  },
  {
   "cell_type": "markdown",
   "metadata": {},
   "source": [
    "Теплота испарения"
   ]
  },
  {
   "cell_type": "code",
   "execution_count": 164,
   "metadata": {},
   "outputs": [],
   "source": [
    "Hlat = 2493.1*(10**3)  #Дж/кг"
   ]
  },
  {
   "cell_type": "markdown",
   "metadata": {},
   "source": [
    "Динамические вязкости пара и воздуха"
   ]
  },
  {
   "cell_type": "code",
   "execution_count": 165,
   "metadata": {},
   "outputs": [],
   "source": [
    "MUpar = 9.746*(10**(-6))  #Па*с\n",
    "MUvozd = 18.12*(10**(-6))  #Па*с"
   ]
  },
  {
   "cell_type": "markdown",
   "metadata": {},
   "source": [
    "Кинематические вязкости пара и воздуха"
   ]
  },
  {
   "cell_type": "code",
   "execution_count": 166,
   "metadata": {},
   "outputs": [],
   "source": [
    "NUpar = 563.7*(10**(-6))  #м2/с\n",
    "NUvozd = 15.06*(10**(-6))  #м2/с"
   ]
  },
  {
   "cell_type": "markdown",
   "metadata": {},
   "source": [
    "#### Вычисляем необходимые для рассчетов переменные"
   ]
  },
  {
   "cell_type": "code",
   "execution_count": 167,
   "metadata": {},
   "outputs": [],
   "source": [
    "Yvs = (ROpar_nas_tvod)/(fi*ROpar_nas_tvod+ROvozd_tvod)\n",
    "Yv = (fi*ROpar_nas_tvozd)/(fi*ROpar_nas_tvozd+ROvozd_tvozd)\n",
    "F = (Yvs-Yv)*(1/(1+Cpar*((Tvozd-Tvod)/Hlat)))\n",
    "MUsmes = Yv*MUpar+(1-Yv)*MUvozd\n",
    "NUsmes = Yv*NUpar+(1-Yv)*NUvozd"
   ]
  },
  {
   "cell_type": "markdown",
   "metadata": {},
   "source": [
    "#### Вычисляем необходимые коэффициенты"
   ]
  },
  {
   "cell_type": "code",
   "execution_count": 168,
   "metadata": {},
   "outputs": [],
   "source": [
    "C6 = (2*MUsmes*F)/(Sc*ROlda)\n",
    "C7 = NUsmes/v"
   ]
  },
  {
   "cell_type": "markdown",
   "metadata": {},
   "source": [
    "#### Описываем функцию ДУ для уравнения (5.2)"
   ]
  },
  {
   "cell_type": "code",
   "execution_count": 169,
   "metadata": {},
   "outputs": [],
   "source": [
    "def diff1(d):\n",
    "    fun = (C6*(1+((1+(d/C7))**(1/3))))/d\n",
    "    return fun"
   ]
  },
  {
   "cell_type": "markdown",
   "metadata": {},
   "source": [
    "#### Описываем функцию ДУ для уравнения (5.3)"
   ]
  },
  {
   "cell_type": "code",
   "execution_count": 170,
   "metadata": {},
   "outputs": [],
   "source": [
    "def diff2(d):\n",
    "    fun = (C6*(1+((1+(d/C7))**(1/3))*((d/C7)**0.077)))/d\n",
    "    return fun"
   ]
  },
  {
   "cell_type": "markdown",
   "metadata": {},
   "source": [
    "#### Создаем пустые массивы, которые будет заполнять в дальнейшем"
   ]
  },
  {
   "cell_type": "code",
   "execution_count": 171,
   "metadata": {
    "scrolled": true
   },
   "outputs": [],
   "source": [
    "a=600000\n",
    "d = np.empty(a)\n",
    "t = np.empty(a)\n",
    "m = np.empty(a)"
   ]
  },
  {
   "cell_type": "markdown",
   "metadata": {},
   "source": [
    "#### Задаем первый элемент этих массивов, что является граничными условиями задачи"
   ]
  },
  {
   "cell_type": "code",
   "execution_count": 172,
   "metadata": {},
   "outputs": [],
   "source": [
    "d[0]=0.02\n",
    "t[0]=0\n",
    "m[0]=ROlda*((3.14*(d[0]**3))/6)"
   ]
  },
  {
   "cell_type": "markdown",
   "metadata": {},
   "source": [
    "#### Описываем функцию, реализующую метод Рунге-Кутта 4-го порядка\n",
    "На вход функции подаем: диаметр, время, массу и шаг"
   ]
  },
  {
   "cell_type": "code",
   "execution_count": 173,
   "metadata": {},
   "outputs": [],
   "source": [
    "def runge(d, t, m, h):\n",
    "    i = 0\n",
    "    while d[i]>0.01:\n",
    "        k1 = diff2(d[i])\n",
    "        k2 = diff2(d[i]+(k1/2))\n",
    "        k3 = diff2(d[i]+(k2/2))\n",
    "        k4 = diff2(d[i]+k3)\n",
    "        skor_d = (h/6)*(k1+2*k2+2*k3+k4)\n",
    "        d[i+1] = d[i]+skor_d\n",
    "        t[i+1] = t[i]+1\n",
    "        m[i+1] = ROlda * ((3.14 * (d[i] ** 3)) / 6)\n",
    "        i += 1\n",
    "    return t, d, m, i"
   ]
  },
  {
   "cell_type": "markdown",
   "metadata": {},
   "source": [
    "#### Проводим вычисление системы ДУ с помощью метода Рунге-Кутта 4-го порядка\n",
    "Для этого задаем шаг дифференцииорования h=1 и вызываем функцию runge()"
   ]
  },
  {
   "cell_type": "code",
   "execution_count": 174,
   "metadata": {},
   "outputs": [],
   "source": [
    "h=1\n",
    "t,d, m, i = runge(d, t, m, h)"
   ]
  },
  {
   "cell_type": "markdown",
   "metadata": {},
   "source": [
    "Строим графиескую зависимость диаметра шарика от время таяния"
   ]
  },
  {
   "cell_type": "code",
   "execution_count": 175,
   "metadata": {},
   "outputs": [
    {
     "data": {
      "image/png": "[encoded data removed]",
      "text/plain": [
       "<Figure size 432x288 with 1 Axes>"
      ]
     },
     "metadata": {
      "needs_background": "light"
     },
     "output_type": "display_data"
    }
   ],
   "source": [
    "t1,d1, m1, i1 = runge(d, t, m, h)\n",
    "plt.plot(t1[0:i], d1[0:i])\n",
    "plt.xlabel(\"Время (с)\")\n",
    "plt.ylabel(\"Диамтер (м)\")\n",
    "plt.show()"
   ]
  },
  {
   "cell_type": "markdown",
   "metadata": {},
   "source": [
    "Строим графиескую зависимость диаметра шарика от время таяния"
   ]
  },
  {
   "cell_type": "code",
   "execution_count": 176,
   "metadata": {},
   "outputs": [
    {
     "data": {
      "image/png": "[encoded data removed]",
      "text/plain": [
       "<Figure size 432x288 with 1 Axes>"
      ]
     },
     "metadata": {
      "needs_background": "light"
     },
     "output_type": "display_data"
    }
   ],
   "source": [
    "plt.plot(t1[0:i], m1[0:i])\n",
    "plt.xlabel(\"Время (с)\")\n",
    "plt.ylabel(\"Масса (кг)\")\n",
    "plt.show()"
   ]
  },
  {
   "cell_type": "markdown",
   "metadata": {},
   "source": [
    "Кроме того были получены следующие рассчетные данные:\n",
    "- Динамическая вязкость\n",
    "- Коэффициент, характеризующий удельную скорость испарения\n",
    "- Графическое представление числа Шервуда по времени"
   ]
  },
  {
   "cell_type": "code",
   "execution_count": 177,
   "metadata": {},
   "outputs": [
    {
     "name": "stdout",
     "output_type": "stream",
     "text": [
      "Динамическая вязкость = 1.8048522515702985e-05\n",
      "Коэффициент, характеризующий удельную скорость испарения = -0.004729583631764885\n"
     ]
    },
    {
     "data": {
      "image/png": "[encoded data removed]",
      "text/plain": [
       "<Figure size 432x288 with 1 Axes>"
      ]
     },
     "metadata": {
      "needs_background": "light"
     },
     "output_type": "display_data"
    }
   ],
   "source": [
    "print('Динамическая вязкость =',MUsmes)\n",
    "print('Коэффициент, характеризующий удельную скорость испарения =',F)\n",
    "Sh = 1+((1+(d[0:i]/C7))**(1/3))*((d[0:i]/C7)**0.077)\n",
    "plt.plot(d[0:i], Sh[0:i])\n",
    "plt.xlabel(\"Диаметр (м)\")\n",
    "plt.ylabel(\"Число Шервуда\")\n",
    "plt.show()"
   ]
  },
  {
   "cell_type": "markdown",
   "metadata": {},
   "source": [
    "#### Оценим точность вычисления ДУ методом Рунге-Кутта 4-го порядка"
   ]
  },
  {
   "cell_type": "code",
   "execution_count": 178,
   "metadata": {},
   "outputs": [
    {
     "name": "stdout",
     "output_type": "stream",
     "text": [
      "Погрешность = 0.0003673486926709094\n"
     ]
    }
   ],
   "source": [
    "t2,d2, m2, i2 = runge(d, t, m, h/2)\n",
    "p=(d1[i1]-d2[i2])/15\n",
    "print(\"Погрешность =\", p)"
   ]
  }
 ],
 "metadata": {
  "kernelspec": {
   "display_name": "Python 3",
   "language": "python",
   "name": "python3"
  },
  "language_info": {
   "codemirror_mode": {
    "name": "ipython",
    "version": 3
   },
   "file_extension": ".py",
   "mimetype": "text/x-python",
   "name": "python",
   "nbconvert_exporter": "python",
   "pygments_lexer": "ipython3",
   "version": "3.8.3"
  }
 },
 "nbformat": 4,
 "nbformat_minor": 4
}
