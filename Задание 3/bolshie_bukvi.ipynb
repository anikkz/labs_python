{
 "cells": [
  {
   "cell_type": "markdown",
   "metadata": {},
   "source": [
    "Напишите функцию capitalize(), которая принимает слово из маленьких латинских букв и возвращает его же, меняя первую букву на большую.\n",
    "Например, print(capitalize('word')) должно печатать слово Word.\n",
    "\n",
    "На вход подаётся строка, состоящая из слов, разделённых одним пробелом. Слова состоят из маленьких латинских букв. Напечатайте исходную строку, сделав так, чтобы каждое слово начиналось с большой буквы. При этом используйте вашу функцию capitalize()."
   ]
  },
  {
   "cell_type": "code",
   "execution_count": 1,
   "metadata": {},
   "outputs": [
    {
     "name": "stdout",
     "output_type": "stream",
     "text": [
      "sdkf sdf\n",
      "Sdkf Sdf\n"
     ]
    }
   ],
   "source": [
    "def capitalize(a):\n",
    "    c=a[0]\n",
    "    b=chr(ord(c) - ord('a') + ord('A'))    \n",
    "    return b + a[1:]\n",
    "    \n",
    "fr=input().split()\n",
    "fraza=[]\n",
    "for a in fr:\n",
    "    fraza.append(capitalize(a))\n",
    "\n",
    "print(' '.join(fraza))"
   ]
  },
  {
   "cell_type": "code",
   "execution_count": null,
   "metadata": {},
   "outputs": [],
   "source": []
  }
 ],
 "metadata": {
  "kernelspec": {
   "display_name": "Python 3",
   "language": "python",
   "name": "python3"
  },
  "language_info": {
   "codemirror_mode": {
    "name": "ipython",
    "version": 3
   },
   "file_extension": ".py",
   "mimetype": "text/x-python",
   "name": "python",
   "nbconvert_exporter": "python",
   "pygments_lexer": "ipython3",
   "version": "3.8.3"
  }
 },
 "nbformat": 4,
 "nbformat_minor": 4
}
